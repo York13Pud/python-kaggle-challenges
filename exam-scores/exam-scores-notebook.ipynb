{
 "cells": [
  {
   "cell_type": "markdown",
   "metadata": {},
   "source": [
    "# <font color=\"AA00FF\">Exam Scores</font>"
   ]
  },
  {
   "cell_type": "markdown",
   "metadata": {},
   "source": [
    "## <font color=\"AA00FF\">Project Participants</font>"
   ]
  },
  {
   "cell_type": "markdown",
   "metadata": {},
   "source": [
    "Stakeholder(s): Me\n",
    "\n",
    "Project Manager(s): Me\n",
    "\n",
    "Data Analyst(s): erm.... Me"
   ]
  },
  {
   "cell_type": "markdown",
   "metadata": {},
   "source": [
    "## <font color=\"AA00FF\">Problem Definition</font>"
   ]
  },
  {
   "cell_type": "markdown",
   "metadata": {},
   "source": [
    "The purpose of this project is to gather insights from a collection of exam scores to understand the following main goals:\n",
    "\n",
    "* The average score for each gender\n",
    "* The average score for each group"
   ]
  },
  {
   "cell_type": "markdown",
   "metadata": {},
   "source": [
    "## <font color=\"AA00FF\">Import Required Libraries</font>"
   ]
  },
  {
   "cell_type": "markdown",
   "metadata": {},
   "source": [
    "The below libraries are required by this notebook."
   ]
  },
  {
   "cell_type": "code",
   "execution_count": null,
   "metadata": {},
   "outputs": [],
   "source": [
    "import math\n",
    "import numpy as np\n",
    "import pandas as pd\n",
    "import plotly as ply\n",
    "import plotly.express as px\n",
    "import plotly.graph_objs as go\n",
    "\n",
    "from platform import python_version"
   ]
  },
  {
   "cell_type": "markdown",
   "metadata": {},
   "source": [
    "Show the versions of the libraries that will be used."
   ]
  },
  {
   "cell_type": "code",
   "execution_count": null,
   "metadata": {},
   "outputs": [],
   "source": [
    "print(f\"Numpy Version:  {np.__version__}\")\n",
    "print(f\"Pandas Version: {pd.__version__}\")\n",
    "print(f\"Plotly Version: {ply.__version__}\")\n",
    "print(f\"Python Version: {python_version()}\")"
   ]
  },
  {
   "cell_type": "markdown",
   "metadata": {},
   "source": [
    "## <font color=\"AA00FF\">Data Processing</font>"
   ]
  },
  {
   "cell_type": "markdown",
   "metadata": {},
   "source": [
    "### <font color=\"AA0088\">Data Source(s)</font>"
   ]
  },
  {
   "cell_type": "markdown",
   "metadata": {},
   "source": [
    "The data for this project was acquired from the following location(s):"
   ]
  },
  {
   "cell_type": "markdown",
   "metadata": {},
   "source": [
    "### <font color=\"AA0088\">Data Overview</font>"
   ]
  },
  {
   "cell_type": "markdown",
   "metadata": {},
   "source": [
    "Give an overview of what the data represents as a whole."
   ]
  },
  {
   "cell_type": "markdown",
   "metadata": {},
   "source": [
    "### <font color=\"AA0088\">Data Dictionary</font>"
   ]
  },
  {
   "cell_type": "markdown",
   "metadata": {},
   "source": [
    "No data dictionary has been provided by the supplier of the data. \n",
    "\n",
    "From initial investigation of the features, a data dictionary has been created and can be found [here](data/raw-data-dictionary.xlsx).\n",
    "\n",
    "**<font color=\"AA0088\">NOTE</font>**: The contents of the description for each feature are assumptions but are logical assumptions based on the description of each feature."
   ]
  },
  {
   "cell_type": "markdown",
   "metadata": {},
   "source": [
    "### <font color=\"AA0088\">Import The Raw Data</font>"
   ]
  },
  {
   "cell_type": "markdown",
   "metadata": {},
   "source": [
    "First step is to import the data to a pandas dataframe from the source of the data. In this case, the source data will be a csv file."
   ]
  },
  {
   "cell_type": "code",
   "execution_count": null,
   "metadata": {},
   "outputs": [],
   "source": [
    "raw_data_df = pd.read_csv(\"./data/raw_data.csv\")"
   ]
  },
  {
   "cell_type": "markdown",
   "metadata": {},
   "source": [
    "### <font color=\"AA0088\">Details About The Raw Data Dataframe</font>"
   ]
  },
  {
   "cell_type": "markdown",
   "metadata": {},
   "source": [
    "Let us have a quick look at the first five rows of the dataframe."
   ]
  },
  {
   "cell_type": "code",
   "execution_count": null,
   "metadata": {},
   "outputs": [],
   "source": [
    "raw_data_df.head(n = 5)"
   ]
  },
  {
   "cell_type": "markdown",
   "metadata": {},
   "source": [
    "Now let's have a look at the information about the raw_data_df."
   ]
  },
  {
   "cell_type": "code",
   "execution_count": null,
   "metadata": {},
   "outputs": [],
   "source": [
    "raw_data_df.info()"
   ]
  },
  {
   "cell_type": "markdown",
   "metadata": {},
   "source": [
    "Initial observations are that there are:\n",
    "\n",
    "* 8 features which are mostly:\n",
    "  * string (object)\n",
    "  * integers (int64)\n",
    "* 1000 rows\n",
    "* No null values but that will be checked soon\n",
    "\n",
    "Some of the features have spaces or / in their names so they should be changed to _ to make querying them simpler."
   ]
  },
  {
   "cell_type": "markdown",
   "metadata": {},
   "source": [
    "### <font color=\"AA0088\">Cleaning Up The Data</font>"
   ]
  },
  {
   "cell_type": "markdown",
   "metadata": {},
   "source": [
    "Before performing any data cleaning, the names of each feature with a space or a / need to be changed to an _.\n",
    "\n",
    "First, make a copy of the raw_data_df so that it stays in tact in case it is needed later on."
   ]
  },
  {
   "cell_type": "code",
   "execution_count": null,
   "metadata": {},
   "outputs": [],
   "source": [
    "exam_scores_df = raw_data_df.copy()\n",
    "exam_scores_df.info()"
   ]
  },
  {
   "cell_type": "markdown",
   "metadata": {},
   "source": [
    "Now let's change the names of the features to remove the spaces and /'s. \n",
    "\n",
    "Once done, the columns will then have any uppercase values converted to lowercase."
   ]
  },
  {
   "cell_type": "code",
   "execution_count": null,
   "metadata": {},
   "outputs": [],
   "source": [
    "exam_scores_df.columns = exam_scores_df.columns.str.replace(\" \", \"_\")\n",
    "exam_scores_df.columns = exam_scores_df.columns.str.replace(\"/\", \"_\")\n",
    "\n",
    "# --- Convert any uppercase characters to lowercase:\n",
    "exam_scores_df.columns = exam_scores_df.columns.str.lower()"
   ]
  },
  {
   "cell_type": "code",
   "execution_count": null,
   "metadata": {},
   "outputs": [],
   "source": [
    "exam_scores_df.info()"
   ]
  },
  {
   "cell_type": "markdown",
   "metadata": {},
   "source": [
    "Now that the column names are in a more preferred format, let's have a look to see if there are any null values."
   ]
  },
  {
   "cell_type": "code",
   "execution_count": null,
   "metadata": {},
   "outputs": [],
   "source": [
    "exam_scores_df.isna().sum()"
   ]
  },
  {
   "cell_type": "markdown",
   "metadata": {},
   "source": [
    "Ok, there are no null values in any of the features."
   ]
  },
  {
   "cell_type": "markdown",
   "metadata": {},
   "source": [
    "### <font color=\"AA0088\">Export The Working Set Dataframe</font>"
   ]
  },
  {
   "cell_type": "markdown",
   "metadata": {},
   "source": [
    "Before going any further, let's make a backup of the current progress of the dataframe to a csv file."
   ]
  },
  {
   "cell_type": "code",
   "execution_count": null,
   "metadata": {},
   "outputs": [],
   "source": [
    "exam_scores_df.to_csv(path_or_buf = \"./data/exam_scores.csv\", \n",
    "                      index = False)"
   ]
  },
  {
   "cell_type": "markdown",
   "metadata": {},
   "source": [
    "Now let's move onto the exploratory data analysis phase."
   ]
  },
  {
   "cell_type": "markdown",
   "metadata": {},
   "source": [
    "## <font color=\"AA00FF\">Exploratory Data Analysis</font>"
   ]
  },
  {
   "cell_type": "markdown",
   "metadata": {},
   "source": [
    "First, let's define some custom classes and functions to create the plots / charts that will be used."
   ]
  },
  {
   "cell_type": "markdown",
   "metadata": {},
   "source": [
    "### <font color=\"AA0088\">Required Custom Constants And Variables</font>"
   ]
  },
  {
   "cell_type": "code",
   "execution_count": null,
   "metadata": {},
   "outputs": [],
   "source": [
    "# --- Set the colour theme for the charts and figures:\n",
    "CHART_COLOR_THEME = px.colors.sequential.Agsunset"
   ]
  },
  {
   "cell_type": "markdown",
   "metadata": {},
   "source": [
    "### <font color=\"AA0088\">Required Custom Classes And Functions</font>"
   ]
  },
  {
   "cell_type": "markdown",
   "metadata": {},
   "source": [
    "#### Create A Pie Figure"
   ]
  },
  {
   "cell_type": "code",
   "execution_count": null,
   "metadata": {},
   "outputs": [],
   "source": [
    "def create_pie_chart(df_source:list, \n",
    "                     feature_name:str, \n",
    "                     fig_title:str):\n",
    "    \n",
    "    \n",
    "    \"\"\"_summary_\n",
    "    This function will generate a pie plot / chart for a single feature that is passed to it as an argument.\n",
    "    \n",
    "    Args:\n",
    "        df_source (list (Pandas DataFrame)): The name of the dataframe that you wish to use.\n",
    "        feature_name (str): The name of the feature (column) to use from the dataframe.\n",
    "        fig_title (str): The title that will be shown on the pie plot / chart.\n",
    "\n",
    "    Returns:\n",
    "        plotly graph (figure): The function will return a pie plot / chart depicting the data passed to this function.\n",
    "    \"\"\"\n",
    "    \n",
    "    \n",
    "    fig_pie = px.pie(df_source,\n",
    "                     values = df_source[feature_name].value_counts(),\n",
    "                     names = df_source[feature_name].value_counts().index,\n",
    "                     title = fig_title.title(),\n",
    "                     width = 500,\n",
    "                     color_discrete_sequence = CHART_COLOR_THEME,\n",
    "                     )\n",
    "\n",
    "\n",
    "    fig_pie.update_traces(textposition=\"inside\", \n",
    "                          textinfo=\"label+percent\",\n",
    "                          textfont_size = 14,\n",
    "                          textfont_color = \"white\",\n",
    "                          hovertemplate = \"<b>%{label}</b><br><br>Total: %{value}</br>Percent: %{percent}\",\n",
    "                          hoverlabel = dict(font = dict(color = \"white\"))\n",
    "                          )\n",
    "    \n",
    "    \n",
    "    fig_pie.update_layout({\"title_font_size\": 24,\n",
    "                           \"title_x\": 0.50,\n",
    "                           \"legend_title\": \"Legend\"})\n",
    "    \n",
    "    \n",
    "    return fig_pie"
   ]
  },
  {
   "cell_type": "markdown",
   "metadata": {},
   "source": [
    "#### Create A Grouped, Multi-Plot Bar Figure"
   ]
  },
  {
   "cell_type": "code",
   "execution_count": null,
   "metadata": {},
   "outputs": [],
   "source": [
    "def create_grouped_bar_chart(df_source:str, \n",
    "                             x_feature_names:list, \n",
    "                             y_feature_names:list, \n",
    "                             y_feature_function:str, \n",
    "                             fig_title:str, \n",
    "                             y_axis_range:list=[0, 100]):\n",
    "    \n",
    "    \n",
    "    \"\"\"This function will create a bar figure that will group two x-axis features and use multiple y-axis features.\n",
    "\n",
    "    Args:\n",
    "        df_source (string): The name of the data frame to use.\n",
    "        x_feature_names (list): A list of the x-axis features to use. These will be used to create the grouping. A minimum of two are required.\n",
    "        y_feature_names (list): A list of the y-axis features to use. A minimum of two are required.\n",
    "        y_feature_function (string): The name of the statistic that will be used for the figure. Options to use are: mean, median, min, max or count. Must be in lowercase.\n",
    "        fig_title (string): The title to be shown on the figure.\n",
    "        y_axis_range (list, optional): [start_at_number, end_at_number] If a custom start and finishing number is required, set it here. Defaults to [0, 100].\n",
    "\n",
    "    Returns:\n",
    "        fig_grouped_bar_chart: Returns the completed figure to the calling variable.\n",
    "    \"\"\"\n",
    "    \n",
    "    \n",
    "    \n",
    "    \n",
    "    # --- Create an empty list that will contain the payload for the figure:              \n",
    "    fig_data = list()\n",
    "    y_feature_function = y_feature_function.lower()\n",
    "    \n",
    "    # --- Build a plot for each y feature:\n",
    "    for y_feature in y_feature_names:\n",
    "        grouped_by_x_feature_df = df_source.groupby(x_feature_names)[y_feature].agg([\"mean\", \"min\", \"max\", \"median\", \"count\"]).reset_index()\n",
    "        \n",
    "        \n",
    "        fig_data.append(go.Bar(name = y_feature.replace(\"_\", \" \").title(),\n",
    "                               x = [(grouped_by_x_feature_df[x_feature_names[idx]]) for idx, item in enumerate(x_feature_names)],\n",
    "                               y = grouped_by_x_feature_df[y_feature_function].values,\n",
    "                               text = np.round(grouped_by_x_feature_df[y_feature_function].values, 2),\n",
    "                               marker_color = CHART_COLOR_THEME[y_feature_names.index(y_feature)]\n",
    "                               )\n",
    "                        )\n",
    "                     \n",
    "    # --- Create the figure from the fig_data:\n",
    "    fig_grouped_bar_chart = go.Figure(data = fig_data)\n",
    "\n",
    "\n",
    "    # --- Apply additional theme settings to the figure:\n",
    "    fig_grouped_bar_chart.update_traces(textposition=\"inside\", \n",
    "                                        textfont_size = 14,\n",
    "                                        textfont_color = \"white\",\n",
    "                                        hovertemplate = \"<b>%{fullData.name}</b><br><br>Avg Score: %{value}<extra></extra>\",\n",
    "                                        hoverlabel = dict(font = dict(color = \"white\"))\n",
    "                                        )\n",
    "\n",
    "\n",
    "    # --- Set the y-axis start range:\n",
    "    y_axis_start_from = y_axis_range[0]\n",
    "    y_axis_end_at = y_axis_range[1]\n",
    "    \n",
    "\n",
    "    # --- Set the y-axis start and finish range variables:    \n",
    "    if y_axis_start_from == 0 and y_axis_end_at == 100:\n",
    "        y_axis_start_from = 0\n",
    "        y_axis_end_at = int(math.ceil(np.round(grouped_by_x_feature_df[y_feature_function].max(), 2) / 100)) * 100\n",
    "\n",
    "\n",
    "    # --- Modify the layout of the figure as needed:\n",
    "    fig_grouped_bar_chart.update_layout({\"title_text\": fig_title.title(),\n",
    "                                        \"title_font_size\": 24,\n",
    "                                        \"title_x\": 0.50,\n",
    "                                        \"legend_title\": \"Legend\",\n",
    "                                        \"barmode\": \"group\"\n",
    "                                        },\n",
    "                                        yaxis_range = [y_axis_start_from, \n",
    "                                                       y_axis_end_at]\n",
    "                                        )\n",
    "       \n",
    "\n",
    "    # --- Return the figure payload to the calling variable:\n",
    "    return fig_grouped_bar_chart"
   ]
  },
  {
   "cell_type": "markdown",
   "metadata": {},
   "source": [
    "#### Create A List of All The Figures Available"
   ]
  },
  {
   "cell_type": "code",
   "execution_count": null,
   "metadata": {},
   "outputs": [],
   "source": [
    "# --- List all of the figure functions available in this notebook:\n",
    "list_figure_options = [var_name for var_name in dir() if var_name.startswith(\"create\")]"
   ]
  },
  {
   "cell_type": "markdown",
   "metadata": {},
   "source": [
    "### <font color=\"AA0088\">Total Examinees By Gender</font>"
   ]
  },
  {
   "cell_type": "code",
   "execution_count": null,
   "metadata": {},
   "outputs": [],
   "source": [
    "fig_pie_gender = create_pie_chart(df_source = exam_scores_df, \n",
    "                                 feature_name = \"gender\", \n",
    "                                 fig_title = \"Total examinees by gender\")\n",
    "\n",
    "\n",
    "fig_pie_gender.show();"
   ]
  },
  {
   "cell_type": "markdown",
   "metadata": {},
   "source": [
    "Initial findings show that there are more male examinees than there are female examinees in this dataset."
   ]
  },
  {
   "cell_type": "markdown",
   "metadata": {},
   "source": [
    "### <font color=\"AA0088\">Total Examinees By Race / Ethnicity</font>"
   ]
  },
  {
   "cell_type": "code",
   "execution_count": null,
   "metadata": {},
   "outputs": [],
   "source": [
    "fig_pie_race = create_pie_chart(df_source = exam_scores_df, \n",
    "                               feature_name = \"race_ethnicity\", \n",
    "                               fig_title = \"Total examinees by race / ethnicity\")\n",
    "\n",
    "\n",
    "fig_pie_race.show();"
   ]
  },
  {
   "cell_type": "markdown",
   "metadata": {},
   "source": [
    "Initial findings show that group C has the most examinees, followed by groups D, B, E and A."
   ]
  },
  {
   "cell_type": "markdown",
   "metadata": {},
   "source": [
    "### <font color=\"AA0088\">Total Examinees By Parental Education</font>"
   ]
  },
  {
   "cell_type": "code",
   "execution_count": null,
   "metadata": {},
   "outputs": [],
   "source": [
    "fig_pie_education = create_pie_chart(df_source = exam_scores_df, \n",
    "                               feature_name = \"parental_level_of_education\", \n",
    "                               fig_title = \"Total examinees by parental education\")\n",
    "\n",
    "\n",
    "fig_pie_education.show();"
   ]
  },
  {
   "cell_type": "markdown",
   "metadata": {},
   "source": [
    "### <font color=\"AA0088\">Total Examinees By Lunch Fee</font>"
   ]
  },
  {
   "cell_type": "code",
   "execution_count": null,
   "metadata": {},
   "outputs": [],
   "source": [
    "fig_pie_lunch = create_pie_chart(df_source = exam_scores_df, \n",
    "                               feature_name = \"lunch\", \n",
    "                               fig_title = \"Total examinees by lunch fee\")\n",
    "\n",
    "\n",
    "fig_pie_lunch.show();"
   ]
  },
  {
   "cell_type": "markdown",
   "metadata": {},
   "source": [
    "Conclusion: Most examinees (65.2%) pay the standard price for their lunches with 34.8% paying a reduced rate or getting a free lunch."
   ]
  },
  {
   "cell_type": "markdown",
   "metadata": {},
   "source": [
    "### <font color=\"AA0088\">Total Examinees That Completed The Prep Courses</font>"
   ]
  },
  {
   "cell_type": "code",
   "execution_count": null,
   "metadata": {},
   "outputs": [],
   "source": [
    "fig_pie_lunch = create_pie_chart(df_source = exam_scores_df, \n",
    "                               feature_name = \"test_preparation_course\", \n",
    "                               fig_title = \"Examinees that completed<br>prep courses\")\n",
    "\n",
    "\n",
    "fig_pie_lunch.show();"
   ]
  },
  {
   "cell_type": "markdown",
   "metadata": {},
   "source": [
    "Conclusion: Only one third of all examinees completed the prep course(s) for the exams."
   ]
  },
  {
   "cell_type": "markdown",
   "metadata": {},
   "source": [
    "### <font color=\"AA0088\">Average Scores By Gender</font>"
   ]
  },
  {
   "cell_type": "code",
   "execution_count": null,
   "metadata": {},
   "outputs": [],
   "source": [
    "fig_bar_avg_gender_score = go.Figure(data = [\n",
    "     go.Bar(name = \"Maths\",\n",
    "            x = exam_scores_df.groupby('gender').math_score.mean().index, \n",
    "            y = exam_scores_df.groupby('gender').math_score.mean().values,\n",
    "            text = np.round(exam_scores_df.groupby('gender').math_score.mean().values, 2),\n",
    "            marker_color = CHART_COLOR_THEME[0]),\n",
    "     go.Bar(name = \"Reading\", \n",
    "            x = exam_scores_df.groupby('gender').reading_score.mean().index, \n",
    "            y = exam_scores_df.groupby('gender').reading_score.mean().values,\n",
    "            text = np.round(exam_scores_df.groupby('gender').reading_score.mean().values, 2),\n",
    "            marker_color = CHART_COLOR_THEME[1]),\n",
    "     go.Bar(name = \"Writing\", \n",
    "            x = exam_scores_df.groupby('gender').writing_score.mean().index, \n",
    "            y = exam_scores_df.groupby('gender').writing_score.mean().values,\n",
    "            text = np.round(exam_scores_df.groupby('gender').writing_score.mean().values, 2),\n",
    "            marker_color = CHART_COLOR_THEME[2]),\n",
    "              \n",
    "])\n",
    "\n",
    "#fig_bar_avg_gender_score.update_layout(barmode='group')\n",
    "fig_bar_avg_gender_score.update_traces(textposition=\"inside\", \n",
    "                                       textfont_size = 14,\n",
    "                                       textfont_color = \"white\",\n",
    "                                       hovertemplate = \"<b>%{fullData.name}</b><br><br>Avg Score: %{value}<extra></extra>\",\n",
    "                                       hoverlabel = dict(font = dict(color = \"white\"))\n",
    "                                       )\n",
    "\n",
    "\n",
    "fig_bar_avg_gender_score.update_layout({\"title_text\": \"Average Scores By Gender\",\n",
    "                                        \"title_font_size\": 24,\n",
    "                                        \"title_x\": 0.50,\n",
    "                                        \"legend_title\": \"Legend\",\n",
    "                                        \"barmode\":'group'\n",
    "                                        })\n",
    "\n",
    "fig_bar_avg_gender_score.show()"
   ]
  },
  {
   "cell_type": "markdown",
   "metadata": {},
   "source": [
    "### <font color=\"AA0088\">Average Scores By Race / Ethnicity Group</font>"
   ]
  },
  {
   "cell_type": "code",
   "execution_count": null,
   "metadata": {},
   "outputs": [],
   "source": [
    "fig_bar_avg_gender_race_score = create_grouped_bar_chart(df_source = exam_scores_df,\n",
    "                                                         x_feature_names = [\"race_ethnicity\", \"gender\"], \n",
    "                                                         y_feature_names = [\"math_score\", \"reading_score\", \"writing_score\"],\n",
    "                                                         y_feature_function = \"mean\",\n",
    "                                                         #y_axis_range = [0, 90],\n",
    "                                                         fig_title = \"Average Scores By Gender By race / Ethnicity Group\"\n",
    "                                                         )\n",
    "\n",
    "\n",
    "fig_bar_avg_gender_race_score.show()"
   ]
  },
  {
   "cell_type": "code",
   "execution_count": null,
   "metadata": {},
   "outputs": [],
   "source": [
    "list_figure_options"
   ]
  },
  {
   "cell_type": "code",
   "execution_count": null,
   "metadata": {},
   "outputs": [],
   "source": [
    "# # --- Import the required libraries / modules / functions / classes:\n",
    "# from pptx import Presentation\n",
    "# from pptx.util import Inches\n",
    "# import io\n",
    "\n",
    "# # --- Setup a new presentation:\n",
    "# prs = Presentation()\n",
    "\n",
    "\n",
    "# # --- Create a title slide:\n",
    "# title_slide_layout = prs.slide_layouts[0]\n",
    "# slide = prs.slides.add_slide(title_slide_layout)\n",
    "# title = slide.shapes.title\n",
    "# title.text = \"Testing PPTX Library\"\n",
    "# subtitle = slide.placeholders[1]\n",
    "# subtitle.text = \"This is kinda fun!!\"\n",
    "\n",
    "\n",
    "# # --- Create a slide with an image from a file:\n",
    "# IMAGE_CHART_SLIDE_LAYOUT = prs.slide_layouts[5]\n",
    "# image_slide = prs.slides.add_slide(IMAGE_CHART_SLIDE_LAYOUT)\n",
    "# title = image_slide.shapes.title\n",
    "# title.text = \"Sample Image\"\n",
    "# image_slide.shapes.add_picture(\"data/test.png\", \n",
    "#                                left = Inches(1.5), \n",
    "#                                top = Inches(1.5),\n",
    "#                                width = Inches(7)\n",
    "#                                )\n",
    "\n",
    "\n",
    "# # --- Create a slide with an image of a plotly figure:\n",
    "# image_slide = prs.slides.add_slide(IMAGE_CHART_SLIDE_LAYOUT)\n",
    "# title = image_slide.shapes.title\n",
    "# title.text = \"Sample Chart\"\n",
    "\n",
    "# image_stream = io.BytesIO()\n",
    "# fig_bar_avg_gender_race_score.write_image(image_stream)\n",
    "\n",
    "# image_slide.shapes.add_picture(image_stream, \n",
    "#                                left = Inches(1.5), \n",
    "#                                top = Inches(1.25),\n",
    "#                                width = Inches(8)\n",
    "#                                )\n",
    "\n",
    "# # --- Export to a PowerPoint file:\n",
    "# prs.save('test.pptx')"
   ]
  },
  {
   "cell_type": "code",
   "execution_count": null,
   "metadata": {},
   "outputs": [],
   "source": []
  }
 ],
 "metadata": {
  "kernelspec": {
   "display_name": "Python 3.10.6 (conda)",
   "language": "python",
   "name": "python3"
  },
  "language_info": {
   "codemirror_mode": {
    "name": "ipython",
    "version": 3
   },
   "file_extension": ".py",
   "mimetype": "text/x-python",
   "name": "python",
   "nbconvert_exporter": "python",
   "pygments_lexer": "ipython3",
   "version": "3.10.6"
  },
  "orig_nbformat": 4,
  "vscode": {
   "interpreter": {
    "hash": "42cd437abf25bfa3f64d0cc0bf2d220dfc6b6a70c0523483dba51682dcef686d"
   }
  }
 },
 "nbformat": 4,
 "nbformat_minor": 2
}
